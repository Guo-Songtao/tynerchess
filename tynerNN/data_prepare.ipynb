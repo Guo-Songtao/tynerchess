{
 "cells": [
  {
   "cell_type": "code",
   "execution_count": 2,
   "metadata": {},
   "outputs": [],
   "source": [
    "import chess\n",
    "import chess.pgn as pgn\n",
    "import datetime\n",
    "import os\n",
    "#from itertools import enumerate\n",
    "from typing import Iterable, Iterator, Tuple"
   ]
  },
  {
   "cell_type": "code",
   "execution_count": 2,
   "metadata": {},
   "outputs": [],
   "source": [
    "pgn_path = r\"./lichess_db_standard_rated_2024-07.pgn\"\n",
    "def gen_datafile_path():\n",
    "    return r\"./training_data/raw-2024-07--{}.dat\".format(str(datetime.datetime.now().strftime(\"%Y%m%d%H%M%S\")))"
   ]
  },
  {
   "cell_type": "code",
   "execution_count": 3,
   "metadata": {},
   "outputs": [],
   "source": [
    "def games_iter(path) -> Iterator[Tuple[pgn.Game, int]]:\n",
    "    with open(path, \"r\") as f:\n",
    "        count_game = 0\n",
    "        while (game := pgn.read_game(f)):\n",
    "            yield game, count_game\n",
    "            count_game += 1"
   ]
  },
  {
   "cell_type": "code",
   "execution_count": 4,
   "metadata": {},
   "outputs": [],
   "source": [
    "def games_with_eval_iter(path) -> Iterator[Tuple[pgn.Game, int]]:\n",
    "    for game, count_game in games_iter(path):\n",
    "        try:\n",
    "            if not next(iter(game.mainline())).eval():\n",
    "                continue\n",
    "        except Exception:\n",
    "            continue\n",
    "        yield game, count_game"
   ]
  },
  {
   "cell_type": "code",
   "execution_count": 5,
   "metadata": {},
   "outputs": [],
   "source": [
    "def count_pieces(fen: str):\n",
    "    res = 0\n",
    "    for c in fen.split(\" \")[0]:\n",
    "        if c.isalpha():\n",
    "            res += 1\n",
    "    return res\n",
    "\n",
    "def dataset_gen(\n",
    "        it: Iterator[Tuple[pgn.Game, int]], num_output_data = 1000, filter = lambda board: True, output_path = None\n",
    "        ):\n",
    "    \"\"\"\n",
    "    it: iterator of games.\n",
    "    filter: decide whether this board is to be accepted (True) or not (False).\n",
    "    \"\"\"\n",
    "    if output_path == None:\n",
    "        output_path = gen_datafile_path()\n",
    "    os.system(f\"cd.>{output_path}\")\n",
    "    with open(output_path, \"r+\") as out:\n",
    "        count = 0\n",
    "        for game, count_game in it:\n",
    "            if \"FEN\" in game.headers:\n",
    "                board = chess.Board(fen = game.headers[\"FEN\"])\n",
    "            else:\n",
    "                board = chess.Board()\n",
    "            break_flg = False\n",
    "            for child_node in game.mainline():\n",
    "                if count > num_output_data:\n",
    "                    break_flg = True\n",
    "                    break\n",
    "                count += 1\n",
    "                if not filter(child_node):\n",
    "                    continue\n",
    "\n",
    "                eval = child_node.eval()\n",
    "                if eval == None:\n",
    "                    break\n",
    "                eval = eval.white().score()\n",
    "\n",
    "                board.push(child_node.move)\n",
    "                fen = board.fen()\n",
    "                \n",
    "                result = {\"0-1\": -1, \"1-0\": 1, \"1/2-1/2\": 0}[game.headers[\"Result\"]]\n",
    "                piece_count = count_pieces(fen)\n",
    "                ply = child_node.ply()\n",
    "                out.write(f\"{fen}\\n{eval}\\n{result}\\n{piece_count}\\n{count_game}\\n{ply}\\n\\n\")\n",
    "            if break_flg:\n",
    "                break"
   ]
  },
  {
   "cell_type": "code",
   "execution_count": 6,
   "metadata": {},
   "outputs": [],
   "source": [
    "dataset_gen(games_iter(pgn_path), 100000)"
   ]
  }
 ],
 "metadata": {
  "kernelspec": {
   "display_name": "d2l",
   "language": "python",
   "name": "python3"
  },
  "language_info": {
   "codemirror_mode": {
    "name": "ipython",
    "version": 3
   },
   "file_extension": ".py",
   "mimetype": "text/x-python",
   "name": "python",
   "nbconvert_exporter": "python",
   "pygments_lexer": "ipython3",
   "version": "3.11.5"
  }
 },
 "nbformat": 4,
 "nbformat_minor": 2
}
